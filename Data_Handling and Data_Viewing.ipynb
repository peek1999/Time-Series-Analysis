{
 "cells": [
  {
   "cell_type": "markdown",
   "metadata": {},
   "source": [
    "# Part1\n"
   ]
  },
  {
   "cell_type": "markdown",
   "metadata": {},
   "source": [
    "# Reading parents data and preprocessing it "
   ]
  },
  {
   "cell_type": "code",
   "execution_count": 1,
   "metadata": {},
   "outputs": [],
   "source": [
    "import pymongo\n",
    "import pandas as pd\n",
    "import numpy as np\n",
    "from pymongo import MongoClient\n",
    "client = MongoClient()\n",
    "db = client.Cogniable"
   ]
  },
  {
   "cell_type": "code",
   "execution_count": 2,
   "metadata": {},
   "outputs": [],
   "source": [
    "import warnings\n",
    "warnings.filterwarnings('ignore')\n",
    "pd.set_option('display.max_rows', 5000)\n",
    "pd.set_option('display.max_columns', 50)\n",
    "pd.set_option('display.width', 1000)"
   ]
  },
  {
   "cell_type": "code",
   "execution_count": null,
   "metadata": {
    "scrolled": false
   },
   "outputs": [],
   "source": [
    "collection = db.parents_abc_function\n",
    "parents_abc_function = pd.DataFrame(list(collection.find()))\n",
    "parents_abc_function = parents_abc_function.iloc[:,2:]\n",
    "parents_abc_function"
   ]
  },
  {
   "cell_type": "code",
   "execution_count": null,
   "metadata": {
    "scrolled": true
   },
   "outputs": [],
   "source": [
    "collection = db.parents_abc_record\n",
    "parents_abc_record = pd.DataFrame(list(collection.find()))\n",
    "parents_abc_record = parents_abc_record.drop({'_id','int32','other','string','mode','entry_time'}, axis='columns')\n",
    "parents_abc_record = parents_abc_record[['id', 'student_id', 'user_id', 'function_id', 'target', 'frequency', 'Intensiy', 'response', 'time', 'date', 'Duration', 'Notes']]\n",
    "parents_abc_record.rename(columns={'Intensiy':'intensity', 'Duration':'duration', 'Notes':'notes'}, inplace=True)\n",
    "parents_abc_record"
   ]
  },
  {
   "cell_type": "code",
   "execution_count": null,
   "metadata": {
    "scrolled": true
   },
   "outputs": [],
   "source": [
    "collection = db.parents_abc_record_antecedent\n",
    "parents_abc_record_antecedent = pd.DataFrame(list(collection.find()))\n",
    "parents_abc_record_antecedent = parents_abc_record_antecedent.iloc[:,1:]\n",
    "parents_abc_record_antecedent = parents_abc_record_antecedent[['id','abc_record_id','antecedent_id']]\n",
    "parents_abc_record_antecedent = parents_abc_record_antecedent.iloc[:,1:]\n",
    "parents_abc_record_antecedent = parents_abc_record_antecedent.rename(columns={\"abc_record_id\": \"id\"})\n",
    "parents_abc_record_antecedent = parents_abc_record_antecedent.astype({'id' : int}) \n",
    "parents_abc_record_antecedent.drop_duplicates(subset=['id'])\n",
    "parents_abc_record_antecedent\n"
   ]
  },
  {
   "cell_type": "code",
   "execution_count": null,
   "metadata": {
    "scrolled": true
   },
   "outputs": [],
   "source": [
    "collection = db.parents_abc_record_behavior\n",
    "parents_abc_record_behavior = pd.DataFrame(list(collection.find()))\n",
    "parents_abc_record_behavior = parents_abc_record_behavior.iloc[:,1:]\n",
    "parents_abc_record_behavior = parents_abc_record_behavior[['id','abc_record_id','behavior_id']]\n",
    "parents_abc_record_behavior = parents_abc_record_behavior.iloc[:,1:]\n",
    "parents_abc_record_behavior = parents_abc_record_behavior.rename(columns={\"abc_record_id\": \"id\"})\n",
    "parents_abc_record_behavior = parents_abc_record_behavior.astype({'id' : int}) \n",
    "parents_abc_record_behavior.drop_duplicates(subset=['id'])\n",
    "parents_abc_record_behavior"
   ]
  },
  {
   "cell_type": "code",
   "execution_count": null,
   "metadata": {
    "scrolled": true
   },
   "outputs": [],
   "source": [
    "collection = db.parents_abc_record_consequences\n",
    "parents_abc_record_consequences = pd.DataFrame(list(collection.find()))\n",
    "parents_abc_record_consequences = parents_abc_record_consequences.iloc[:,1:]\n",
    "parents_abc_record_consequences = parents_abc_record_consequences[['id','abc_record_id','consequence_id']]\n",
    "parents_abc_record_consequences = parents_abc_record_consequences.iloc[:,1:]\n",
    "parents_abc_record_consequences = parents_abc_record_consequences.rename(columns={\"abc_record_id\": \"id\"})\n",
    "parents_abc_record_consequences = parents_abc_record_consequences.astype({'id' : int}) \n",
    "parents_abc_record_consequences.drop_duplicates(subset=['id'])\n",
    "parents_abc_record_consequences\n"
   ]
  },
  {
   "cell_type": "code",
   "execution_count": null,
   "metadata": {
    "scrolled": true
   },
   "outputs": [],
   "source": [
    "collection = db.parents_abc_record_location\n",
    "parents_abc_record_location = pd.DataFrame(list(collection.find()))\n",
    "parents_abc_record_location = parents_abc_record_location.iloc[:,1:]\n",
    "parents_abc_record_location = parents_abc_record_location[['id','abc_record_id','behavior_location_id']]\n",
    "parents_abc_record_location = parents_abc_record_location.iloc[:,1:]\n",
    "parents_abc_record_location = parents_abc_record_location.rename(columns={\"abc_record_id\": \"id\"})\n",
    "parents_abc_record_location = parents_abc_record_location.astype({'id' : int}) \n",
    "parents_abc_record_location.drop_duplicates(subset=['id'])\n",
    "parents_abc_record_location\n"
   ]
  },
  {
   "cell_type": "code",
   "execution_count": null,
   "metadata": {
    "scrolled": true
   },
   "outputs": [],
   "source": [
    "parents_record = parents_abc_record.merge(parents_abc_record_antecedent, how = 'left', left_on='id', right_on='id')\n",
    "parents_record = parents_record.merge(parents_abc_record_behavior, how = 'left', left_on='id', right_on='id')\n",
    "parents_record = parents_record.merge(parents_abc_record_consequences, how='left', left_on='id', right_on='id')\n",
    "parents_record = parents_record.merge(parents_abc_record_location,how= 'left', left_on='id', right_on='id')\n",
    "parents_record = parents_record.drop(columns='notes')\n",
    "parents_record = parents_record.drop(parents_record.index[11])\n",
    "parents_record['intensity'] = parents_record['intensity'].str.lower()\n",
    "col_names = parents_record.columns\n",
    "from sklearn import preprocessing\n",
    "le = preprocessing.LabelEncoder()\n",
    "X = parents_record.iloc[:,:].values\n",
    "X[:,6] = le.fit_transform(X[:,6])\n",
    "X[:,7] = le.fit_transform(X[:,7])\n",
    "parents_record = pd.DataFrame(X)\n",
    "parents_record.columns = col_names\n",
    "parents_record"
   ]
  },
  {
   "cell_type": "markdown",
   "metadata": {},
   "source": [
    "# Part2"
   ]
  },
  {
   "cell_type": "code",
   "execution_count": null,
   "metadata": {
    "scrolled": true
   },
   "outputs": [],
   "source": [
    "collection = db.parents_antecedent\n",
    "parents_antecedent = pd.DataFrame(list(collection.find()))\n",
    "parents_antecedent = parents_antecedent.iloc[:,1:]\n",
    "parents_antecedent = parents_antecedent[['id','student_id','user_id', 'allo_target', 'time', 'antecedent_name']]\n",
    "parents_antecedent = parents_antecedent.astype({'id' : int}) \n",
    "parents_antecedent.drop_duplicates(subset=['id'])\n"
   ]
  },
  {
   "cell_type": "code",
   "execution_count": null,
   "metadata": {
    "scrolled": true
   },
   "outputs": [],
   "source": [
    "collection = db.parents_behavior_location\n",
    "parents_behavior_location = pd.DataFrame(list(collection.find()))\n",
    "parents_behavior_location = parents_behavior_location.iloc[:,1:]\n",
    "parents_behavior_location = parents_behavior_location[['id','student_id','user_id', 'behavior_location', 'time', 'status']]\n",
    "parents_behavior_location = parents_behavior_location.astype({'id' : int}) \n",
    "parents_behavior_location.drop_duplicates(subset=['id'])\n"
   ]
  },
  {
   "cell_type": "code",
   "execution_count": null,
   "metadata": {
    "scrolled": true
   },
   "outputs": [],
   "source": [
    "collection = db.parents_consequence\n",
    "parents_consequence = pd.DataFrame(list(collection.find()))\n",
    "parents_consequence = parents_consequence.iloc[:,1:]\n",
    "parents_consequence = parents_consequence[['id','student_id','user_id', 'time', 'consequence_name']]\n",
    "parents_consequence = parents_consequence.astype({'id' : int}) \n",
    "parents_consequence.drop_duplicates(subset=['id'])"
   ]
  },
  {
   "cell_type": "markdown",
   "metadata": {},
   "source": [
    "# Part3"
   ]
  },
  {
   "cell_type": "code",
   "execution_count": null,
   "metadata": {
    "scrolled": true
   },
   "outputs": [],
   "source": [
    "collection = db.parents_create_master_assmnt\n",
    "parents_create_master_assmnt = pd.DataFrame(list(collection.find()))\n",
    "parents_create_master_assmnt = parents_create_master_assmnt.iloc[:,1:]\n",
    "parents_create_master_assmnt = parents_create_master_assmnt[['id','student_id_id','created_by_id']]\n",
    "parents_create_master_assmnt = parents_create_master_assmnt.astype({'id' : int}) \n",
    "parents_create_master_assmnt.drop_duplicates(subset=['id'])"
   ]
  },
  {
   "cell_type": "code",
   "execution_count": null,
   "metadata": {
    "scrolled": true
   },
   "outputs": [],
   "source": [
    "collection = db.parents_create_master_assmnt_entry\n",
    "parents_create_master_assmnt_entry = pd.DataFrame(list(collection.find()))\n",
    "parents_create_master_assmnt_entry = parents_create_master_assmnt_entry.iloc[:,1:]\n",
    "parents_create_master_assmnt_entry = parents_create_master_assmnt_entry[['id','entry_master_assmnt_id','create_master_assmnt_id']]\n",
    "parents_create_master_assmnt_entry = parents_create_master_assmnt_entry.astype({'id' : int}) \n",
    "parents_create_master_assmnt_entry.drop_duplicates(subset=['id'])"
   ]
  },
  {
   "cell_type": "markdown",
   "metadata": {},
   "source": [
    "# Part4"
   ]
  },
  {
   "cell_type": "code",
   "execution_count": null,
   "metadata": {
    "scrolled": true
   },
   "outputs": [],
   "source": [
    "collection = db.parents_daily_click_data\n",
    "parents_daily_click_data = pd.DataFrame(list(collection.find()))\n",
    "parents_daily_click_data = parents_daily_click_data.iloc[:,1:]\n",
    "parents_daily_click_data = parents_daily_click_data[['id','daily_click_id','data','created_by_id']]\n",
    "parents_daily_click_data = parents_daily_click_data.astype({'id' : int}) \n",
    "parents_daily_click_data.drop_duplicates(subset=['id'])"
   ]
  },
  {
   "cell_type": "code",
   "execution_count": null,
   "metadata": {
    "scrolled": true
   },
   "outputs": [],
   "source": [
    "collection = db.parents_decelbehaviordata\n",
    "parents_decelbehaviordata = pd.DataFrame(list(collection.find()))\n",
    "parents_decelbehaviordata = parents_decelbehaviordata.iloc[:,1:]\n",
    "parents_decelbehaviordata = parents_decelbehaviordata[['id','template_id','note','created_by_id']]\n",
    "parents_decelbehaviordata = parents_decelbehaviordata.astype({'id' : int}) \n",
    "parents_decelbehaviordata.drop_duplicates(subset=['id'])"
   ]
  },
  {
   "cell_type": "code",
   "execution_count": null,
   "metadata": {
    "scrolled": true
   },
   "outputs": [],
   "source": [
    "collection = db.parents_decelbehaviordata_data\n",
    "parents_decelbehaviordata_data = pd.DataFrame(list(collection.find()))\n",
    "parents_decelbehaviordata_data = parents_decelbehaviordata_data.iloc[:,1:]\n",
    "parents_decelbehaviordata_data = parents_decelbehaviordata_data[['id','decelbehaviordata_id','decelmeasuringdata_id']]\n",
    "parents_decelbehaviordata_data = parents_decelbehaviordata_data.astype({'id' : int}) \n",
    "parents_decelbehaviordata_data.drop_duplicates(subset=['id'])"
   ]
  },
  {
   "cell_type": "code",
   "execution_count": null,
   "metadata": {
    "scrolled": true
   },
   "outputs": [],
   "source": [
    "collection = db.parents_decelbehaviortemplate\n",
    "parents_decelbehaviortemplate = pd.DataFrame(list(collection.find()))\n",
    "parents_decelbehaviortemplate = parents_decelbehaviortemplate.iloc[:,1:]\n",
    "parents_decelbehaviortemplate = parents_decelbehaviortemplate[['id','student_id','created_by_id','behavior_id','status_id']]\n",
    "parents_decelbehaviortemplate = parents_decelbehaviortemplate.astype({'id' : int}) \n",
    "parents_decelbehaviortemplate.drop_duplicates(subset=['id'])"
   ]
  },
  {
   "cell_type": "code",
   "execution_count": null,
   "metadata": {
    "scrolled": true
   },
   "outputs": [],
   "source": [
    "collection = db.parents_decelbehaviortemplate_measurments\n",
    "parents_decelbehaviortemplate_measurments = pd.DataFrame(list(collection.find()))\n",
    "parents_decelbehaviortemplate_measurments = parents_decelbehaviortemplate_measurments.iloc[:,1:]\n",
    "parents_decelbehaviortemplate_measurments = parents_decelbehaviortemplate_measurments[['id','decelbehaviortemplate_id','decelbehaviormeasurings_id']]\n",
    "parents_decelbehaviortemplate_measurments = parents_decelbehaviortemplate_measurments.astype({'id' : int}) \n",
    "parents_decelbehaviortemplate_measurments.drop_duplicates(subset=['id'])"
   ]
  },
  {
   "cell_type": "code",
   "execution_count": null,
   "metadata": {
    "scrolled": true
   },
   "outputs": [],
   "source": [
    "collection = db.parents_decelmeasuringdata\n",
    "parents_decelmeasuringdata = pd.DataFrame(list(collection.find()))\n",
    "parents_decelmeasuringdata = parents_decelmeasuringdata.iloc[:,1:]\n",
    "parents_decelmeasuringdata = parents_decelmeasuringdata[['id','measuring_type_id']]\n",
    "parents_decelmeasuringdata = parents_decelmeasuringdata.astype({'id' : int}) \n",
    "parents_decelmeasuringdata.drop_duplicates(subset=['id'])"
   ]
  },
  {
   "cell_type": "code",
   "execution_count": null,
   "metadata": {
    "scrolled": true
   },
   "outputs": [],
   "source": [
    "collection = db.parents_markssd\n",
    "parents_markssd = pd.DataFrame(list(collection.find()))\n",
    "parents_markssd = parents_markssd.iloc[:,1:]\n",
    "parents_markssd = parents_markssd[['id','marks','order']]\n",
    "parents_markssd = parents_markssd.astype({'id' : int}) \n",
    "parents_markssd.drop_duplicates(subset=['id'])"
   ]
  },
  {
   "cell_type": "code",
   "execution_count": null,
   "metadata": {
    "scrolled": true
   },
   "outputs": [],
   "source": [
    "collection = db.parents_peakdatarecording\n",
    "parents_peakdatarecording = pd.DataFrame(list(collection.find()))\n",
    "parents_peakdatarecording = parents_peakdatarecording.iloc[:,1:]\n",
    "parents_peakdatarecording = parents_peakdatarecording[['id','target_id','total_marks']]\n",
    "parents_peakdatarecording = parents_peakdatarecording.astype({'id' : int}) \n",
    "parents_peakdatarecording.drop_duplicates(subset=['id'])"
   ]
  },
  {
   "cell_type": "code",
   "execution_count": null,
   "metadata": {
    "scrolled": true
   },
   "outputs": [],
   "source": [
    "collection = db.parents_peakdatarecording_stimulus\n",
    "parents_peakdatarecording_stimulus = pd.DataFrame(list(collection.find()))\n",
    "parents_peakdatarecording_stimulus = parents_peakdatarecording_stimulus.iloc[:,1:]\n",
    "parents_peakdatarecording_stimulus = parents_peakdatarecording_stimulus[['id','peakdatarecording_id','markssd_id']]\n",
    "parents_peakdatarecording_stimulus = parents_peakdatarecording_stimulus.astype({'id' : int}) \n",
    "parents_peakdatarecording_stimulus.drop_duplicates(subset=['id'])"
   ]
  },
  {
   "cell_type": "markdown",
   "metadata": {},
   "source": [
    "# Part5"
   ]
  },
  {
   "cell_type": "code",
   "execution_count": null,
   "metadata": {},
   "outputs": [],
   "source": [
    "collection = db.therapist_allocatedtargeteditdate\n",
    "therapist_allocatedtargeteditdate = pd.DataFrame(list(collection.find()))\n",
    "therapist_allocatedtargeteditdate = therapist_allocatedtargeteditdate.iloc[:,1:]\n",
    "therapist_allocatedtargeteditdate = therapist_allocatedtargeteditdate[['id','targets_id','user_id']]\n",
    "therapist_allocatedtargeteditdate = therapist_allocatedtargeteditdate.astype({'id' : int}) \n",
    "therapist_allocatedtargeteditdate.drop_duplicates(subset=['id'])"
   ]
  },
  {
   "cell_type": "code",
   "execution_count": null,
   "metadata": {
    "scrolled": true
   },
   "outputs": [],
   "source": [
    "collection = db.therapist_targets_prerequisit\n",
    "therapist_targets_prerequisit = pd.DataFrame(list(collection.find()))\n",
    "therapist_targets_prerequisit = therapist_targets_prerequisit.iloc[:,1:]\n",
    "therapist_targets_prerequisit = therapist_targets_prerequisit[['id','targets_id','prerequisits_id']]\n",
    "therapist_targets_prerequisit = therapist_targets_prerequisit.astype({'id' : int}) \n",
    "therapist_targets_prerequisit\n"
   ]
  },
  {
   "cell_type": "code",
   "execution_count": null,
   "metadata": {},
   "outputs": [],
   "source": [
    "collection = db.therapist_targets\n",
    "therapist_targets = pd.DataFrame(list(collection.find()))\n",
    "therapist_targets = therapist_targets.iloc[:,1:]\n",
    "therapist_targets = therapist_targets[['id','domain_id','target_area_id','target_main_id','status','mastery_criteria']]\n",
    "therapist_targets = therapist_targets.astype({'id' : int}) "
   ]
  }
 ],
 "metadata": {
  "kernelspec": {
   "display_name": "Python 3",
   "language": "python",
   "name": "python3"
  },
  "language_info": {
   "codemirror_mode": {
    "name": "ipython",
    "version": 3
   },
   "file_extension": ".py",
   "mimetype": "text/x-python",
   "name": "python",
   "nbconvert_exporter": "python",
   "pygments_lexer": "ipython3",
   "version": "3.6.8"
  }
 },
 "nbformat": 4,
 "nbformat_minor": 2
}
